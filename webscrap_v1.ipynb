{
 "cells": [
  {
   "cell_type": "code",
   "execution_count": 14,
   "id": "standing-cleaning",
   "metadata": {},
   "outputs": [],
   "source": [
    "import numpy as np\n",
    "import pandas as pd\n",
    "from bs4 import BeautifulSoup\n",
    "import requests"
   ]
  },
  {
   "cell_type": "code",
   "execution_count": 94,
   "id": "alien-leadership",
   "metadata": {},
   "outputs": [],
   "source": [
    "def get_list_pages_of_10(url_list_10):\n",
    "    url_list = []\n",
    "    for page_number in range(0,11):\n",
    "        #remember that the end is ?page=\n",
    "        url_page = url_list_10+str(page_number)\n",
    "        url_list.append(url_page)\n",
    "    return url_list\n",
    "    "
   ]
  },
  {
   "cell_type": "code",
   "execution_count": 97,
   "id": "unsigned-connecticut",
   "metadata": {},
   "outputs": [],
   "source": [
    "list_of_10pages = get_list_pages_of_10('https://www.goodreads.com/list/show/6.Best_Books_of_the_20th_Century?page=')"
   ]
  },
  {
   "cell_type": "code",
   "execution_count": 98,
   "id": "intensive-aging",
   "metadata": {
    "scrolled": true
   },
   "outputs": [
    {
     "name": "stdout",
     "output_type": "stream",
     "text": [
      "['https://www.goodreads.com/list/show/6.Best_Books_of_the_20th_Century?page=0', 'https://www.goodreads.com/list/show/6.Best_Books_of_the_20th_Century?page=1', 'https://www.goodreads.com/list/show/6.Best_Books_of_the_20th_Century?page=2', 'https://www.goodreads.com/list/show/6.Best_Books_of_the_20th_Century?page=3', 'https://www.goodreads.com/list/show/6.Best_Books_of_the_20th_Century?page=4', 'https://www.goodreads.com/list/show/6.Best_Books_of_the_20th_Century?page=5', 'https://www.goodreads.com/list/show/6.Best_Books_of_the_20th_Century?page=6', 'https://www.goodreads.com/list/show/6.Best_Books_of_the_20th_Century?page=7', 'https://www.goodreads.com/list/show/6.Best_Books_of_the_20th_Century?page=8', 'https://www.goodreads.com/list/show/6.Best_Books_of_the_20th_Century?page=9', 'https://www.goodreads.com/list/show/6.Best_Books_of_the_20th_Century?page=10']\n"
     ]
    }
   ],
   "source": [
    "print(list_of_10pages)"
   ]
  },
  {
   "cell_type": "code",
   "execution_count": 4,
   "id": "geographic-baptist",
   "metadata": {},
   "outputs": [],
   "source": [
    "def get_links_for_100(url_one_page):\n",
    "    url_page = requests.get(url_one_page)\n",
    "    soup = BeautifulSoup(url_page.content, 'html.parser')\n",
    "    href_link_list =[]\n",
    "    for link in soup.find_all('a', class_='bookTitle') :\n",
    "        if link.has_attr('href'):\n",
    "            href_link_list.append(link.attrs['href'])\n",
    "    return href_link_list"
   ]
  },
  {
   "cell_type": "code",
   "execution_count": 20,
   "id": "unauthorized-roulette",
   "metadata": {},
   "outputs": [],
   "source": [
    "list_of_100_links = get_links_for_100('https://www.goodreads.com/list/show/6.Best_Books_of_the_20th_Century?page=1')"
   ]
  },
  {
   "cell_type": "code",
   "execution_count": 86,
   "id": "diverse-thesaurus",
   "metadata": {},
   "outputs": [
    {
     "name": "stdout",
     "output_type": "stream",
     "text": [
      "100\n",
      "/book/show/2657.To_Kill_a_Mockingbird\n"
     ]
    }
   ],
   "source": [
    "print(len(list_of_100_links))\n",
    "print(list_of_100_links[0])"
   ]
  },
  {
   "cell_type": "code",
   "execution_count": null,
   "id": "aboriginal-bangladesh",
   "metadata": {},
   "outputs": [],
   "source": [
    "def get_url_for_goodreads_from_list(url_list_from_get_links):\n",
    "    list_container = []\n",
    "    for i in range(0,100):\n",
    "        url_detail = \"https://www.goodreads.com\" + str(list_of_100_links[i])    \n",
    "        list_container.append(url_detail)\n",
    "    return list_container"
   ]
  },
  {
   "cell_type": "code",
   "execution_count": 7,
   "id": "passing-culture",
   "metadata": {
    "scrolled": true
   },
   "outputs": [
    {
     "name": "stdout",
     "output_type": "stream",
     "text": [
      "['https://www.goodreads.com/book/show/2657.To_Kill_a_Mockingbird', 'https://www.goodreads.com/book/show/40961427-1984', 'https://www.goodreads.com/book/show/3.Harry_Potter_and_the_Sorcerer_s_Stone', 'https://www.goodreads.com/book/show/4671.The_Great_Gatsby', 'https://www.goodreads.com/book/show/170448.Animal_Farm', 'https://www.goodreads.com/book/show/5907.The_Hobbit_or_There_and_Back_Again', 'https://www.goodreads.com/book/show/48855.The_Diary_of_a_Young_Girl', 'https://www.goodreads.com/book/show/157993.The_Little_Prince', 'https://www.goodreads.com/book/show/13079982-fahrenheit-451', 'https://www.goodreads.com/book/show/5107.The_Catcher_in_the_Rye', 'https://www.goodreads.com/book/show/100915.The_Lion_the_Witch_and_the_Wardrobe', 'https://www.goodreads.com/book/show/18114322-the-grapes-of-wrath', 'https://www.goodreads.com/book/show/320.One_Hundred_Years_of_Solitude', 'https://www.goodreads.com/book/show/5129.Brave_New_World', 'https://www.goodreads.com/book/show/18405.Gone_with_the_Wind', 'https://www.goodreads.com/book/show/890.Of_Mice_and_Men', 'https://www.goodreads.com/book/show/5.Harry_Potter_and_the_Prisoner_of_Azkaban', 'https://www.goodreads.com/book/show/3636.The_Giver', 'https://www.goodreads.com/book/show/7624.Lord_of_the_Flies', 'https://www.goodreads.com/book/show/4981.Slaughterhouse_Five', 'https://www.goodreads.com/book/show/7604.Lolita', 'https://www.goodreads.com/book/show/4406.East_of_Eden', 'https://www.goodreads.com/book/show/38447.The_Handmaid_s_Tale', 'https://www.goodreads.com/book/show/332613.One_Flew_Over_the_Cuckoo_s_Nest', 'https://www.goodreads.com/book/show/34.The_Fellowship_of_the_Ring', 'https://www.goodreads.com/book/show/13.The_Ultimate_Hitchhiker_s_Guide_to_the_Galaxy', 'https://www.goodreads.com/book/show/929.Memoirs_of_a_Geisha', 'https://www.goodreads.com/book/show/49552.The_Stranger', 'https://www.goodreads.com/book/show/15881.Harry_Potter_and_the_Chamber_of_Secrets', 'https://www.goodreads.com/book/show/24178.Charlotte_s_Web', 'https://www.goodreads.com/book/show/11127.The_Chronicles_of_Narnia', 'https://www.goodreads.com/book/show/33574273-a-wrinkle-in-time', 'https://www.goodreads.com/book/show/2165.The_Old_Man_and_the_Sea', 'https://www.goodreads.com/book/show/375802.Ender_s_Game', 'https://www.goodreads.com/book/show/370493.The_Giving_Tree', 'https://www.goodreads.com/book/show/838729.The_Return_of_the_King', 'https://www.goodreads.com/book/show/6514.The_Bell_Jar', 'https://www.goodreads.com/book/show/15241.The_Two_Towers', 'https://www.goodreads.com/book/show/1617.Night', 'https://www.goodreads.com/book/show/14891.A_Tree_Grows_in_Brooklyn', 'https://www.goodreads.com/book/show/76620.Watership_Down', 'https://www.goodreads.com/book/show/18144590-the-alchemist', 'https://www.goodreads.com/book/show/8127.Anne_of_Green_Gables', 'https://www.goodreads.com/book/show/168642.In_Cold_Blood', 'https://www.goodreads.com/book/show/23772.Green_Eggs_and_Ham', 'https://www.goodreads.com/book/show/52036.Siddhartha', 'https://www.goodreads.com/book/show/662.Atlas_Shrugged', 'https://www.goodreads.com/book/show/52892857-the-color-purple', 'https://www.goodreads.com/book/show/9712.Love_in_the_Time_of_Cholera', 'https://www.goodreads.com/book/show/7244.The_Poisonwood_Bible', 'https://www.goodreads.com/book/show/485894.The_Metamorphosis', 'https://www.goodreads.com/book/show/188572.The_Complete_Sherlock_Holmes', 'https://www.goodreads.com/book/show/2998.The_Secret_Garden', 'https://www.goodreads.com/book/show/9717.The_Unbearable_Lightness_of_Being', 'https://www.goodreads.com/book/show/4473.A_Prayer_for_Owen_Meany', 'https://www.goodreads.com/book/show/149267.The_Stand', 'https://www.goodreads.com/book/show/17899948-rebecca', 'https://www.goodreads.com/book/show/119073.The_Name_of_the_Rose', 'https://www.goodreads.com/book/show/19543.Where_the_Wild_Things_Are', 'https://www.goodreads.com/book/show/7784.The_Lorax', 'https://www.goodreads.com/book/show/6310.Charlie_and_the_Chocolate_Factory', 'https://www.goodreads.com/book/show/44767458-dune', 'https://www.goodreads.com/book/show/5043.The_Pillars_of_the_Earth', 'https://www.goodreads.com/book/show/117833.The_Master_and_Margarita', 'https://www.goodreads.com/book/show/231804.The_Outsiders', 'https://www.goodreads.com/book/show/70401.On_the_Road', 'https://www.goodreads.com/book/show/386162.The_Hitchhiker_s_Guide_to_the_Galaxy', 'https://www.goodreads.com/book/show/3876.The_Sun_Also_Rises', 'https://www.goodreads.com/book/show/338798.Ulysses', 'https://www.goodreads.com/book/show/355697.All_Quiet_on_the_Western_Front', 'https://www.goodreads.com/book/show/6149.Beloved', 'https://www.goodreads.com/book/show/1078.The_Good_Earth', 'https://www.goodreads.com/book/show/310612.A_Confederacy_of_Dunces', 'https://www.goodreads.com/book/show/252577.Angela_s_Ashes', 'https://www.goodreads.com/book/show/7763.The_Joy_Luck_Club', 'https://www.goodreads.com/book/show/2122.The_Fountainhead', 'https://www.goodreads.com/book/show/10975.The_Sound_and_the_Fury', 'https://www.goodreads.com/book/show/46170.For_Whom_the_Bell_Tolls', 'https://www.goodreads.com/book/show/7069.The_World_According_to_Garp', 'https://www.goodreads.com/book/show/77767.Little_House_on_the_Prairie', 'https://www.goodreads.com/book/show/227463.A_Clockwork_Orange', 'https://www.goodreads.com/book/show/37415.Their_Eyes_Were_Watching_God', 'https://www.goodreads.com/book/show/10799.A_Farewell_to_Arms', 'https://www.goodreads.com/book/show/16981.Invisible_Man', 'https://www.goodreads.com/book/show/10365.Where_the_Red_Fern_Grows', 'https://www.goodreads.com/book/show/36576608-flowers-for-algernon', 'https://www.goodreads.com/book/show/40792344-mere-christianity', 'https://www.goodreads.com/book/show/17716.Waiting_for_Godot', 'https://www.goodreads.com/book/show/256008.Lonesome_Dove', 'https://www.goodreads.com/book/show/133518.The_Things_They_Carried', 'https://www.goodreads.com/book/show/4989.The_Red_Tent', 'https://www.goodreads.com/book/show/228560.Sophie_s_Choice', 'https://www.goodreads.com/book/show/13496.A_Game_of_Thrones', 'https://www.goodreads.com/book/show/7745.Fear_and_Loathing_in_Las_Vegas', 'https://www.goodreads.com/book/show/5113.Franny_and_Zooey', 'https://www.goodreads.com/book/show/59716.To_the_Lighthouse', 'https://www.goodreads.com/book/show/7588.A_Portrait_of_the_Artist_as_a_Young_Man', 'https://www.goodreads.com/book/show/40495148-blindness', 'https://www.goodreads.com/book/show/135479.Cat_s_Cradle', 'https://www.goodreads.com/book/show/99107.Winnie_the_Pooh']\n"
     ]
    }
   ],
   "source": [
    "dummy_test = []\n",
    "for i in range(0,100):\n",
    "    url_detail = \"https://www.goodreads.com\" + str(list_of_100_links[i])\n",
    "    #soup_detail = BeautifulSoup(url_detail.content, 'html.parser')\n",
    "    dummy_test.append(url_detail)\n",
    "\n",
    "print(dummy_test)"
   ]
  },
  {
   "cell_type": "code",
   "execution_count": 19,
   "id": "buried-ridge",
   "metadata": {},
   "outputs": [],
   "source": [
    "def get_title(soup_detail):\n",
    "    try:\n",
    "        title = soup_detail.find(\"h1\", {\"id\":\"bookTitle\"}).text.replace(\"\\n\",\"\").replace(\"      \",\"\")\n",
    "    except:\n",
    "        title = np.nan\n",
    "    return title\n",
    "\n",
    "\n",
    "\n",
    "#get the book author\n",
    "\n",
    "def get_author(soup_detail):\n",
    "    try:\n",
    "        author = soup_detail.find(\"div\", {\"class\":\"authorName__container\"}).text.replace(\"\\n\",\"\")\n",
    "    except:\n",
    "        author = np.nan\n",
    "    return author\n",
    "\n",
    "\n",
    "\n",
    "\n",
    "\n",
    "# get ratings\n",
    "\n",
    "def get_rating(soup_detail):\n",
    "    try:\n",
    "        rating = soup_detail.find(\"meta\", {\"itemprop\":\"ratingCount\"}).text.replace(\"\\n\",\"\").split()\n",
    "        rating = rating[0]        \n",
    "    except:\n",
    "        rating = np.nan      \n",
    "    return rating\n",
    "\n",
    "\n",
    "# get avgratings\n",
    "book_avgratings = []\n",
    "def get_avgrating(soup_detail):\n",
    "    try:\n",
    "        avgrating = soup_detail.find(\"span\", {\"itemprop\":\"ratingValue\"}).text.replace(\"\\n\",\"\").replace(' ','')\n",
    "    except:\n",
    "        avgrating = np.nan\n",
    "    return avgrating\n",
    "\n",
    "# get pages\n",
    "book_pages = []\n",
    "def get_page(soup_detail):\n",
    "    try:\n",
    "        page = soup_detail.find(\"span\", {\"itemprop\":\"numberOfPages\"}).text.split()\n",
    "        page = page[0]\n",
    "    except:\n",
    "        page = np.nan\n",
    "    return page\n",
    "\n",
    "\n",
    "# get years\n",
    "book_publish_year = []\n",
    "def get_year(soup_detail):\n",
    "    try:\n",
    "        publish_year = soup_detail.find(\"nobr\", {\"class\":\"greyText\"}).text.replace(\"\\n\",\"\").replace(\")\",\"\").split()\n",
    "        publish_year = publish_year[-1]\n",
    "    except:\n",
    "        publish_year = np.nan\n",
    "    return publish_year\n",
    "\n",
    "# get award\n",
    "def get_award(soup_detail):\n",
    "    try:\n",
    "        award = soup_detail.find(\"div\", {\"itemprop\":\"awards\"}).text.replace(\"\\n\",\"\")\n",
    "    except:\n",
    "        award = np.nan\n",
    "    return award\n",
    "\n",
    "# get genres\n",
    "def get_genres(soup_detail):\n",
    "    try:\n",
    "        genres = soup_detail.find_all(class_=\"actionLinkLite bookPageGenreLink\")\n",
    "        genres = genres[:3]\n",
    "        genres = [genre.get_text() for genre in genres]\n",
    "    except:\n",
    "        genres = np.nan\n",
    "    return genres\n",
    "\n",
    "#get the book reviews\n",
    "\n",
    "def get_review(soup_detail):\n",
    "    try:\n",
    "        review = soup_detail.find(\"meta\", {\"itemprop\":\"reviewCount\"}).text.replace(\"\\n\",\"\").split()\n",
    "        review = review[0]\n",
    "    except:\n",
    "        review = np.nan\n",
    "    return review\n",
    "\n",
    "# get series\n",
    "def get_series(soup_detail):\n",
    "    try:\n",
    "        series = soup_test.find(id=\"bookSeries\").text.strip()\n",
    "        if len(series) == 0:\n",
    "            return False\n",
    "        else: \n",
    "            return True\n",
    "    except:\n",
    "        series = np.nan\n",
    "\n",
    "# get places\n",
    "def get_places(soup_detail):\n",
    "    try:\n",
    "        places = soup_test.find(\"div\", {'id':\"bookDataBox\"}).find('span',class_=\"darkGreyText\").text.replace(\"(\",\"\").replace(\")\",\"\").strip()\n",
    "    except:\n",
    "        places = np.nan\n",
    "    return places"
   ]
  },
  {
   "cell_type": "code",
   "execution_count": null,
   "id": "neither-large",
   "metadata": {},
   "outputs": [],
   "source": [
    "title = []\n",
    "author = []\n",
    "num_reviews = []\n",
    "num_ratings = []\n",
    "avg_rating = []\n",
    "num_pages = []\n",
    "original_publish_year = []\n",
    "series = []\n",
    "genres = []\n",
    "awards = []\n",
    "places = []\n",
    "\n",
    "for link in dummy_test:\n",
    "    one_book= requests.get(link)\n",
    "    soup_detail = BeautifulSoup(one_book.content, 'html.parser')\n",
    "    \n",
    "    ####\n",
    "    title.append(get_title(soup_detail))\n",
    "    author.append(get_author(soup_detail))\n",
    "    num_reviews.append(get_review(soup_detail))\n",
    "    num_ratings.append(get_rating(soup_detail))\n",
    "    avg_rating.append(get_avgrating(soup_detail))\n",
    "    num_pages.append(get_page(soup_detail))\n",
    "    original_publish_year.append(get_year(soup_detail))\n",
    "    series.append(get_series(soup_detail))\n",
    "    genres.append(get_genres(soup_detail))\n",
    "    awards.append(get_award(soup_detail))\n",
    "    places.append(get_places(soup_detail))    "
   ]
  },
  {
   "cell_type": "code",
   "execution_count": 11,
   "id": "outside-appendix",
   "metadata": {},
   "outputs": [],
   "source": [
    "data = {'url': dummy_test,\n",
    "        'title': title, \n",
    "        'author': author, \n",
    "        'num_reviews': num_reviews, \n",
    "        'num_ratings': num_ratings,\n",
    "        'avg_rating': avg_rating,\n",
    "        'num_pages':   num_pages,\n",
    "        'original_publish_year': original_publish_year,\n",
    "        'series': series,\n",
    "        'genres': genres,\n",
    "        'awards': awards,\n",
    "        'places':places\n",
    "     }\n",
    "\n",
    "df = pd.DataFrame(data)\n",
    "\n",
    "df.to_csv(\"df_all_100.csv\", index=False)"
   ]
  },
  {
   "cell_type": "code",
   "execution_count": null,
   "id": "appropriate-stability",
   "metadata": {},
   "outputs": [],
   "source": [
    "df"
   ]
  },
  {
   "cell_type": "code",
   "execution_count": 16,
   "id": "engaged-chocolate",
   "metadata": {},
   "outputs": [],
   "source": [
    "\n",
    "\n",
    "\n",
    "\n",
    "\n",
    "\n",
    "\n",
    "\n",
    "\n",
    "\n",
    "\n",
    "\n",
    "url_test = requests.get('https://www.goodreads.com/book/show/2657.To_Kill_a_Mockingbird')\n",
    "soup_test = BeautifulSoup(url_test.content, 'html.parser')\n",
    "\n",
    "\n"
   ]
  },
  {
   "cell_type": "code",
   "execution_count": 17,
   "id": "literary-demand",
   "metadata": {},
   "outputs": [
    {
     "name": "stdout",
     "output_type": "stream",
     "text": [
      "True\n",
      "United States\n"
     ]
    }
   ],
   "source": [
    "# series - bool\n",
    "series = soup_test.find(id=\"bookSeries\").text.strip()\n",
    "if len(series) == 0:\n",
    "    print(False)\n",
    "else: \n",
    "    print(True)\n",
    "    \n",
    "# places\n",
    "places = soup_test.find(\"div\", {'id':\"bookDataBox\"}).find('span',class_=\"darkGreyText\").text.replace(\"(\",\"\").replace(\")\",\"\").strip()\n",
    "print(places)"
   ]
  }
 ],
 "metadata": {
  "kernelspec": {
   "display_name": "Python 3",
   "language": "python",
   "name": "python3"
  },
  "language_info": {
   "codemirror_mode": {
    "name": "ipython",
    "version": 3
   },
   "file_extension": ".py",
   "mimetype": "text/x-python",
   "name": "python",
   "nbconvert_exporter": "python",
   "pygments_lexer": "ipython3",
   "version": "3.8.8"
  }
 },
 "nbformat": 4,
 "nbformat_minor": 5
}
